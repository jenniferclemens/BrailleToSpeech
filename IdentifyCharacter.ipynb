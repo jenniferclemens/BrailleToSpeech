{
 "cells": [
  {
   "cell_type": "markdown",
   "metadata": {},
   "source": [
    "# Braille Character Classification"
   ]
  },
  {
   "cell_type": "markdown",
   "metadata": {},
   "source": [
    "## Importing the modules"
   ]
  },
  {
   "cell_type": "code",
   "execution_count": 1,
   "metadata": {},
   "outputs": [],
   "source": [
    "import os\n",
    "import numpy as np\n",
    "import pandas as pd\n",
    "from shutil import copyfile"
   ]
  },
  {
   "cell_type": "markdown",
   "metadata": {},
   "source": [
    "## Creating labeled directories"
   ]
  },
  {
   "cell_type": "code",
   "execution_count": 10,
   "metadata": {},
   "outputs": [],
   "source": [
    "os.mkdir('./charimages/')\n",
    "alpha = 'a'\n",
    "for i in range(0, 26): \n",
    "    os.mkdir('./charimages/' + alpha)\n",
    "    alpha = chr(ord(alpha) + 1)\n",
    "\n",
    "rootdir = '..\\\\Code\\\\brailleCharactersDataset\\\\BrailleDataset\\\\'\n",
    "for file in os.listdir(rootdir):\n",
    "    letter = file[0]\n",
    "    copyfile(rootdir+file, './charimages/' + letter + '/' + file)"
   ]
  },
  {
   "cell_type": "markdown",
   "metadata": {},
   "source": [
    "<!-- \n",
    "# Dataset\n",
    "\n",
    "# Braille Character Dataset\n",
    "\n",
    "# Source: Kaggle\n",
    "\n",
    "# 28x28 image in BW Scale\n",
    "\n",
    "# Augmentations:\n",
    "\n",
    "# whs - width height shift\n",
    "\n",
    "# rot – Rotation\n",
    "\n",
    "# dim – brightness\n",
    "\n",
    "# 26 characters * 3 Augmentations * 20 values\n",
    "# = 1560 images \n",
    "-->"
   ]
  },
  {
   "cell_type": "markdown",
   "metadata": {},
   "source": [
    "## Splitting the dataset"
   ]
  },
  {
   "cell_type": "code",
   "execution_count": 12,
   "metadata": {},
   "outputs": [
    {
     "name": "stdout",
     "output_type": "stream",
     "text": [
      "Found 1248 images belonging to 26 classes.\n",
      "Found 312 images belonging to 26 classes.\n"
     ]
    }
   ],
   "source": [
    "from keras.preprocessing.image import ImageDataGenerator\n",
    "datagen = ImageDataGenerator(rotation_range=20,\n",
    "                             shear_range=10,\n",
    "                             validation_split=0.2)\n",
    "\n",
    "train_generator = datagen.flow_from_directory('./charimages/',\n",
    "                                              target_size=(28,28),\n",
    "                                              subset='training')\n",
    "\n",
    "val_generator = datagen.flow_from_directory('./charimages/',\n",
    "                                            target_size=(28,28),\n",
    "                                            subset='validation')"
   ]
  },
  {
   "cell_type": "markdown",
   "metadata": {},
   "source": [
    "## Model Definition & Training"
   ]
  },
  {
   "cell_type": "code",
   "execution_count": 13,
   "metadata": {},
   "outputs": [
    {
     "name": "stderr",
     "output_type": "stream",
     "text": [
      "<ipython-input-13-709140038fe6>:29: UserWarning: `Model.fit_generator` is deprecated and will be removed in a future version. Please use `Model.fit`, which supports generators.\n",
      "  history = model.fit_generator(train_generator,\n"
     ]
    },
    {
     "name": "stdout",
     "output_type": "stream",
     "text": [
      "Epoch 1/666\n",
      "39/39 [==============================] - 9s 216ms/step - loss: 3.2844 - accuracy: 0.0337 - val_loss: 3.2555 - val_accuracy: 0.0481 - lr: 0.0010\n",
      "Epoch 2/666\n",
      "39/39 [==============================] - 2s 52ms/step - loss: 3.1941 - accuracy: 0.0681 - val_loss: 2.9830 - val_accuracy: 0.2019 - lr: 0.0010\n",
      "Epoch 3/666\n",
      "39/39 [==============================] - 2s 58ms/step - loss: 2.6107 - accuracy: 0.2500 - val_loss: 2.1255 - val_accuracy: 0.4423 - lr: 0.0010\n",
      "Epoch 4/666\n",
      "39/39 [==============================] - 2s 51ms/step - loss: 1.8905 - accuracy: 0.4511 - val_loss: 1.8175 - val_accuracy: 0.4359 - lr: 0.0010\n",
      "Epoch 5/666\n",
      "39/39 [==============================] - 2s 51ms/step - loss: 1.5943 - accuracy: 0.5264 - val_loss: 1.2025 - val_accuracy: 0.6571 - lr: 0.0010\n",
      "Epoch 6/666\n",
      "39/39 [==============================] - 2s 53ms/step - loss: 1.2751 - accuracy: 0.6466 - val_loss: 1.2614 - val_accuracy: 0.6090 - lr: 0.0010\n",
      "Epoch 7/666\n",
      "39/39 [==============================] - 2s 53ms/step - loss: 1.0190 - accuracy: 0.6939 - val_loss: 0.9046 - val_accuracy: 0.7724 - lr: 0.0010\n",
      "Epoch 8/666\n",
      "39/39 [==============================] - 2s 51ms/step - loss: 0.8205 - accuracy: 0.7580 - val_loss: 0.8240 - val_accuracy: 0.7500 - lr: 0.0010\n",
      "Epoch 9/666\n",
      "39/39 [==============================] - 2s 55ms/step - loss: 0.8337 - accuracy: 0.7500 - val_loss: 0.7389 - val_accuracy: 0.7692 - lr: 0.0010\n",
      "Epoch 10/666\n",
      "39/39 [==============================] - 2s 48ms/step - loss: 0.7319 - accuracy: 0.8053 - val_loss: 0.8249 - val_accuracy: 0.7724 - lr: 0.0010\n",
      "Epoch 11/666\n",
      "39/39 [==============================] - 2s 60ms/step - loss: 0.6703 - accuracy: 0.8053 - val_loss: 0.6918 - val_accuracy: 0.8237 - lr: 0.0010\n",
      "Epoch 12/666\n",
      "39/39 [==============================] - 2s 52ms/step - loss: 0.5064 - accuracy: 0.8558 - val_loss: 0.6319 - val_accuracy: 0.8269 - lr: 0.0010\n",
      "Epoch 13/666\n",
      "39/39 [==============================] - 2s 52ms/step - loss: 0.5382 - accuracy: 0.8606 - val_loss: 0.5723 - val_accuracy: 0.8558 - lr: 0.0010\n",
      "Epoch 14/666\n",
      "39/39 [==============================] - 2s 58ms/step - loss: 0.4733 - accuracy: 0.8622 - val_loss: 0.5358 - val_accuracy: 0.8686 - lr: 0.0010\n",
      "Epoch 15/666\n",
      "39/39 [==============================] - 2s 53ms/step - loss: 0.4720 - accuracy: 0.8598 - val_loss: 0.8059 - val_accuracy: 0.7372 - lr: 0.0010\n",
      "Epoch 16/666\n",
      "39/39 [==============================] - 2s 56ms/step - loss: 0.4497 - accuracy: 0.8662 - val_loss: 0.5617 - val_accuracy: 0.8301 - lr: 0.0010\n",
      "Epoch 17/666\n",
      "39/39 [==============================] - 2s 54ms/step - loss: 0.4243 - accuracy: 0.8758 - val_loss: 0.3811 - val_accuracy: 0.8974 - lr: 0.0010\n",
      "Epoch 18/666\n",
      "39/39 [==============================] - 2s 49ms/step - loss: 0.3593 - accuracy: 0.8966 - val_loss: 0.4439 - val_accuracy: 0.8718 - lr: 0.0010\n",
      "Epoch 19/666\n",
      "39/39 [==============================] - 2s 48ms/step - loss: 0.2978 - accuracy: 0.9183 - val_loss: 0.4199 - val_accuracy: 0.8942 - lr: 0.0010\n",
      "Epoch 20/666\n",
      "39/39 [==============================] - 2s 59ms/step - loss: 0.2890 - accuracy: 0.9151 - val_loss: 0.4883 - val_accuracy: 0.8942 - lr: 0.0010\n",
      "Epoch 21/666\n",
      "39/39 [==============================] - 2s 52ms/step - loss: 0.3081 - accuracy: 0.9143 - val_loss: 0.4732 - val_accuracy: 0.8654 - lr: 0.0010\n",
      "Epoch 22/666\n",
      "39/39 [==============================] - 2s 51ms/step - loss: 0.3252 - accuracy: 0.9022 - val_loss: 0.5618 - val_accuracy: 0.8301 - lr: 0.0010\n",
      "Epoch 23/666\n",
      "39/39 [==============================] - 2s 50ms/step - loss: 0.2676 - accuracy: 0.9311 - val_loss: 0.3371 - val_accuracy: 0.9103 - lr: 0.0010\n",
      "Epoch 24/666\n",
      "39/39 [==============================] - 2s 52ms/step - loss: 0.2821 - accuracy: 0.9199 - val_loss: 0.5158 - val_accuracy: 0.8718 - lr: 0.0010\n",
      "Epoch 25/666\n",
      "39/39 [==============================] - 2s 53ms/step - loss: 0.2877 - accuracy: 0.9207 - val_loss: 0.4138 - val_accuracy: 0.9038 - lr: 0.0010\n",
      "Epoch 26/666\n",
      "39/39 [==============================] - 2s 53ms/step - loss: 0.1922 - accuracy: 0.9423 - val_loss: 0.3511 - val_accuracy: 0.9006 - lr: 0.0010\n",
      "Epoch 27/666\n",
      "39/39 [==============================] - 2s 47ms/step - loss: 0.2741 - accuracy: 0.9167 - val_loss: 0.4778 - val_accuracy: 0.8750 - lr: 0.0010\n",
      "Epoch 28/666\n",
      "39/39 [==============================] - 2s 51ms/step - loss: 0.1934 - accuracy: 0.9487 - val_loss: 0.3627 - val_accuracy: 0.9006 - lr: 0.0010\n",
      "Epoch 29/666\n",
      "39/39 [==============================] - 2s 50ms/step - loss: 0.2065 - accuracy: 0.9455 - val_loss: 0.4196 - val_accuracy: 0.8942 - lr: 0.0010\n",
      "Epoch 30/666\n",
      "39/39 [==============================] - 2s 52ms/step - loss: 0.2440 - accuracy: 0.9215 - val_loss: 0.3106 - val_accuracy: 0.9135 - lr: 0.0010\n",
      "Epoch 31/666\n",
      "39/39 [==============================] - 2s 53ms/step - loss: 0.2233 - accuracy: 0.9335 - val_loss: 0.4450 - val_accuracy: 0.8750 - lr: 0.0010\n",
      "Epoch 32/666\n",
      "39/39 [==============================] - 2s 48ms/step - loss: 0.2420 - accuracy: 0.9303 - val_loss: 0.3757 - val_accuracy: 0.9199 - lr: 0.0010\n",
      "Epoch 33/666\n",
      "39/39 [==============================] - 2s 48ms/step - loss: 0.1859 - accuracy: 0.9503 - val_loss: 0.3315 - val_accuracy: 0.9135 - lr: 0.0010\n",
      "Epoch 34/666\n",
      "39/39 [==============================] - 2s 48ms/step - loss: 0.1859 - accuracy: 0.9479 - val_loss: 0.3220 - val_accuracy: 0.9135 - lr: 0.0010\n",
      "Epoch 35/666\n",
      "39/39 [==============================] - 2s 48ms/step - loss: 0.2241 - accuracy: 0.9351 - val_loss: 0.3286 - val_accuracy: 0.9071 - lr: 0.0010\n",
      "Epoch 36/666\n",
      "39/39 [==============================] - 2s 47ms/step - loss: 0.1720 - accuracy: 0.9551 - val_loss: 0.2963 - val_accuracy: 0.9231 - lr: 0.0010\n",
      "Epoch 37/666\n",
      "39/39 [==============================] - 2s 46ms/step - loss: 0.1702 - accuracy: 0.9511 - val_loss: 0.2968 - val_accuracy: 0.9359 - lr: 0.0010\n",
      "Epoch 38/666\n",
      "39/39 [==============================] - 2s 53ms/step - loss: 0.1543 - accuracy: 0.9591 - val_loss: 0.3611 - val_accuracy: 0.9071 - lr: 0.0010\n",
      "Epoch 39/666\n",
      "39/39 [==============================] - 2s 51ms/step - loss: 0.1572 - accuracy: 0.9495 - val_loss: 0.3301 - val_accuracy: 0.9135 - lr: 0.0010\n",
      "Epoch 40/666\n",
      "39/39 [==============================] - 2s 53ms/step - loss: 0.1909 - accuracy: 0.9471 - val_loss: 0.4125 - val_accuracy: 0.8942 - lr: 0.0010\n",
      "Epoch 41/666\n",
      "39/39 [==============================] - 2s 54ms/step - loss: 0.2154 - accuracy: 0.9415 - val_loss: 0.3740 - val_accuracy: 0.9038 - lr: 0.0010\n",
      "Epoch 42/666\n",
      "39/39 [==============================] - 2s 55ms/step - loss: 0.1594 - accuracy: 0.9567 - val_loss: 0.2497 - val_accuracy: 0.9423 - lr: 0.0010\n",
      "Epoch 43/666\n",
      "39/39 [==============================] - 2s 52ms/step - loss: 0.1425 - accuracy: 0.9679 - val_loss: 0.1582 - val_accuracy: 0.9551 - lr: 0.0010\n",
      "Epoch 44/666\n",
      "39/39 [==============================] - 2s 52ms/step - loss: 0.1486 - accuracy: 0.9607 - val_loss: 0.3037 - val_accuracy: 0.9295 - lr: 0.0010\n",
      "Epoch 45/666\n",
      "39/39 [==============================] - 2s 47ms/step - loss: 0.1701 - accuracy: 0.9535 - val_loss: 0.2944 - val_accuracy: 0.9327 - lr: 0.0010\n",
      "Epoch 46/666\n",
      "39/39 [==============================] - 2s 54ms/step - loss: 0.1311 - accuracy: 0.9607 - val_loss: 0.3855 - val_accuracy: 0.9135 - lr: 0.0010\n",
      "Epoch 47/666\n",
      "39/39 [==============================] - 2s 52ms/step - loss: 0.1095 - accuracy: 0.9704 - val_loss: 0.3977 - val_accuracy: 0.8910 - lr: 0.0010\n",
      "Epoch 48/666\n",
      "39/39 [==============================] - 2s 54ms/step - loss: 0.1391 - accuracy: 0.9599 - val_loss: 0.3517 - val_accuracy: 0.9167 - lr: 0.0010\n",
      "Epoch 49/666\n",
      "39/39 [==============================] - 2s 52ms/step - loss: 0.1674 - accuracy: 0.9583 - val_loss: 0.3022 - val_accuracy: 0.9135 - lr: 0.0010\n",
      "Epoch 50/666\n",
      "39/39 [==============================] - 2s 51ms/step - loss: 0.1095 - accuracy: 0.9704 - val_loss: 0.2041 - val_accuracy: 0.9455 - lr: 0.0010\n",
      "Epoch 51/666\n",
      "39/39 [==============================] - 2s 50ms/step - loss: 0.1186 - accuracy: 0.9679 - val_loss: 0.2302 - val_accuracy: 0.9551 - lr: 0.0010\n",
      "Epoch 52/666\n",
      "39/39 [==============================] - 2s 47ms/step - loss: 0.0910 - accuracy: 0.9800 - val_loss: 0.2537 - val_accuracy: 0.9487 - lr: 1.0000e-04\n",
      "Epoch 53/666\n",
      "39/39 [==============================] - 2s 54ms/step - loss: 0.0718 - accuracy: 0.9832 - val_loss: 0.2331 - val_accuracy: 0.9519 - lr: 1.0000e-04\n",
      "Epoch 54/666\n",
      "39/39 [==============================] - 2s 52ms/step - loss: 0.0848 - accuracy: 0.9856 - val_loss: 0.2694 - val_accuracy: 0.9327 - lr: 1.0000e-04\n",
      "Epoch 55/666\n",
      "39/39 [==============================] - 2s 61ms/step - loss: 0.0709 - accuracy: 0.9856 - val_loss: 0.2003 - val_accuracy: 0.9519 - lr: 1.0000e-04\n",
      "Epoch 56/666\n",
      "39/39 [==============================] - 2s 55ms/step - loss: 0.0607 - accuracy: 0.9928 - val_loss: 0.2444 - val_accuracy: 0.9487 - lr: 1.0000e-04\n",
      "Epoch 57/666\n",
      "39/39 [==============================] - 2s 47ms/step - loss: 0.0583 - accuracy: 0.9896 - val_loss: 0.1898 - val_accuracy: 0.9519 - lr: 1.0000e-04\n",
      "Epoch 58/666\n",
      "39/39 [==============================] - 2s 46ms/step - loss: 0.0595 - accuracy: 0.9904 - val_loss: 0.1945 - val_accuracy: 0.9615 - lr: 1.0000e-04\n",
      "Epoch 58: early stopping\n"
     ]
    }
   ],
   "source": [
    "from keras import backend as K\n",
    "from keras import layers as L\n",
    "from keras.models import Model,load_model\n",
    "from keras.regularizers import l2\n",
    "from keras.callbacks import ModelCheckpoint,ReduceLROnPlateau,EarlyStopping\n",
    "\n",
    "K.clear_session()\n",
    "\n",
    "model_ckpt = ModelCheckpoint('BrailleNet.h5',save_best_only=True)\n",
    "reduce_lr = ReduceLROnPlateau(patience=8,verbose=0)\n",
    "early_stop = EarlyStopping(patience=15,verbose=1)\n",
    "\n",
    "entry = L.Input(shape=(28,28,3))\n",
    "x = L.SeparableConv2D(64,(3,3),activation='relu')(entry)\n",
    "x = L.MaxPooling2D((2,2))(x)\n",
    "x = L.SeparableConv2D(128,(3,3),activation='relu')(x)\n",
    "x = L.MaxPooling2D((2,2))(x)\n",
    "x = L.SeparableConv2D(256,(2,2),activation='relu')(x)\n",
    "x = L.GlobalMaxPooling2D()(x)\n",
    "x = L.Dense(256)(x)\n",
    "x = L.LeakyReLU()(x)\n",
    "x = L.Dense(64,kernel_regularizer=l2(2e-4))(x)\n",
    "x = L.LeakyReLU()(x)\n",
    "x = L.Dense(26,activation='softmax')(x)\n",
    "\n",
    "model = Model(entry,x)\n",
    "model.compile(loss='categorical_crossentropy',optimizer='adam',metrics=['accuracy'])\n",
    "\n",
    "history = model.fit_generator(train_generator,\n",
    "                              validation_data=val_generator,\n",
    "                              epochs=666,\n",
    "                              callbacks=[model_ckpt,reduce_lr,early_stop],\n",
    "                              verbose=1)"
   ]
  },
  {
   "cell_type": "code",
   "execution_count": 14,
   "metadata": {
    "scrolled": true
   },
   "outputs": [
    {
     "name": "stdout",
     "output_type": "stream",
     "text": [
      "Model: \"model\"\n",
      "_________________________________________________________________\n",
      " Layer (type)                Output Shape              Param #   \n",
      "=================================================================\n",
      " input_1 (InputLayer)        [(None, 28, 28, 3)]       0         \n",
      "                                                                 \n",
      " separable_conv2d (Separable  (None, 26, 26, 64)       283       \n",
      " Conv2D)                                                         \n",
      "                                                                 \n",
      " max_pooling2d (MaxPooling2D  (None, 13, 13, 64)       0         \n",
      " )                                                               \n",
      "                                                                 \n",
      " separable_conv2d_1 (Separab  (None, 11, 11, 128)      8896      \n",
      " leConv2D)                                                       \n",
      "                                                                 \n",
      " max_pooling2d_1 (MaxPooling  (None, 5, 5, 128)        0         \n",
      " 2D)                                                             \n",
      "                                                                 \n",
      " separable_conv2d_2 (Separab  (None, 4, 4, 256)        33536     \n",
      " leConv2D)                                                       \n",
      "                                                                 \n",
      " global_max_pooling2d (Globa  (None, 256)              0         \n",
      " lMaxPooling2D)                                                  \n",
      "                                                                 \n",
      " dense (Dense)               (None, 256)               65792     \n",
      "                                                                 \n",
      " leaky_re_lu (LeakyReLU)     (None, 256)               0         \n",
      "                                                                 \n",
      " dense_1 (Dense)             (None, 64)                16448     \n",
      "                                                                 \n",
      " leaky_re_lu_1 (LeakyReLU)   (None, 64)                0         \n",
      "                                                                 \n",
      " dense_2 (Dense)             (None, 26)                1690      \n",
      "                                                                 \n",
      "=================================================================\n",
      "Total params: 126,645\n",
      "Trainable params: 126,645\n",
      "Non-trainable params: 0\n",
      "_________________________________________________________________\n"
     ]
    }
   ],
   "source": [
    "model.summary()"
   ]
  },
  {
   "cell_type": "markdown",
   "metadata": {},
   "source": [
    "## Measuring Performance "
   ]
  },
  {
   "cell_type": "code",
   "execution_count": 15,
   "metadata": {},
   "outputs": [
    {
     "name": "stderr",
     "output_type": "stream",
     "text": [
      "<ipython-input-15-11a8187ef6d0>:2: UserWarning: `Model.evaluate_generator` is deprecated and will be removed in a future version. Please use `Model.evaluate`, which supports generators.\n",
      "  acc = model.evaluate_generator(val_generator)[1]\n"
     ]
    },
    {
     "name": "stdout",
     "output_type": "stream",
     "text": [
      "model accuracy: 0.9359\n"
     ]
    }
   ],
   "source": [
    "model = load_model('BrailleNet.h5')\n",
    "acc = model.evaluate_generator(val_generator)[1]\n",
    "print('model accuracy: {}'.format(round(acc,4)))\n"
   ]
  },
  {
   "cell_type": "code",
   "execution_count": 16,
   "metadata": {
    "scrolled": true
   },
   "outputs": [
    {
     "data": {
      "image/png": "[encoded data removed]",
      "text/plain": [
       "<Figure size 432x288 with 1 Axes>"
      ]
     },
     "metadata": {
      "needs_background": "light"
     },
     "output_type": "display_data"
    },
    {
     "data": {
      "image/png": "[encoded data removed]",
      "text/plain": [
       "<Figure size 432x288 with 1 Axes>"
      ]
     },
     "metadata": {
      "needs_background": "light"
     },
     "output_type": "display_data"
    },
    {
     "data": {
      "text/plain": [
       "<Figure size 432x288 with 0 Axes>"
      ]
     },
     "metadata": {},
     "output_type": "display_data"
    }
   ],
   "source": [
    "import matplotlib.pyplot as plt\n",
    "plt.plot(history.history['loss'], label='train loss')\n",
    "plt.plot(history.history['val_loss'], label='val loss')\n",
    "plt.legend()\n",
    "plt.show()\n",
    "plt.savefig('LossVal_loss')\n",
    "\n",
    "plt.plot(history.history['accuracy'], label='train acc')\n",
    "plt.plot(history.history['val_accuracy'], label='val acc')\n",
    "plt.legend()\n",
    "plt.show()\n",
    "plt.savefig('AccVal_acc')"
   ]
  },
  {
   "cell_type": "markdown",
   "metadata": {},
   "source": [
    "## Testing"
   ]
  },
  {
   "cell_type": "code",
   "execution_count": 29,
   "metadata": {
    "scrolled": false
   },
   "outputs": [
    {
     "data": {
      "text/plain": [
       "array([10, 19,  7, 15, 11, 16, 22, 14,  9,  4, 25, 25,  3,  8, 20, 11, 25,\n",
       "        3,  5, 17, 14, 20, 21,  4,  5, 15,  1, 12, 12, 15, 23, 24, 24,  8,\n",
       "        6,  2, 12,  7, 19, 11, 14,  9,  9, 16, 17, 12,  5, 10, 14,  0, 13,\n",
       "       25, 21,  8,  1, 25, 24, 15, 20,  2,  3, 22, 19,  6, 10, 21,  7, 17,\n",
       "       13, 24,  8,  7, 25, 24,  2, 16,  9, 17, 19,  0,  2, 10,  5, 11,  1,\n",
       "        3, 18, 18, 13,  5, 22,  6, 19,  4, 19, 10, 24, 14, 22, 24, 20,  5,\n",
       "        8,  5,  8, 16,  0, 24, 12,  7,  7, 14,  2, 25, 13, 21, 24, 10, 15,\n",
       "       19, 12,  2,  8, 24, 25,  9, 21, 17,  4, 21,  5, 13,  4, 17, 14,  1,\n",
       "        4,  1, 23, 25,  2,  6,  0, 23,  3,  1,  3,  9, 25, 16,  1, 16,  9,\n",
       "       12, 16, 10,  5,  1, 12,  7,  6, 22,  8,  9,  1,  4, 23,  7, 24, 15,\n",
       "        6,  4, 24, 11, 17, 23,  3,  2,  5, 17, 16, 22,  4,  7, 13, 21, 13,\n",
       "       18, 17,  5,  2,  0, 13, 11, 22,  5, 10,  6,  1,  2, 17, 20, 18, 18,\n",
       "        8, 18, 19,  5,  7,  1, 11, 24, 11, 20, 14,  8, 11, 14,  2, 15, 16,\n",
       "        0, 25, 10, 21, 17, 21, 18, 18,  0, 19,  1, 12,  2, 20, 14,  3, 22,\n",
       "       21, 20,  6,  7,  3, 23, 15, 13,  6, 17, 10, 20, 18, 14, 23,  6, 10,\n",
       "       16, 12, 11, 24, 22, 19, 23,  1, 23,  9,  9, 10, 11, 23,  7, 18,  8,\n",
       "        8, 13,  9,  6, 12, 17, 19, 15, 22, 18,  0, 20,  3, 23,  2, 15, 23,\n",
       "       24, 21, 12, 20,  0, 17, 14,  4,  8, 11, 20, 16, 15,  2,  0,  4,  6,\n",
       "       13, 19, 14, 21, 25, 18], dtype=int64)"
      ]
     },
     "execution_count": 29,
     "metadata": {},
     "output_type": "execute_result"
    }
   ],
   "source": [
    "pred = model.predict(val_generator)\n",
    "a=np.argmax(pred, axis=1)\n",
    "a"
   ]
  },
  {
   "cell_type": "code",
   "execution_count": 30,
   "metadata": {},
   "outputs": [
    {
     "data": {
      "text/plain": [
       "312"
      ]
     },
     "execution_count": 30,
     "metadata": {},
     "output_type": "execute_result"
    }
   ],
   "source": [
    "a.size"
   ]
  },
  {
   "cell_type": "markdown",
   "metadata": {},
   "source": [
    "### Custom Test "
   ]
  },
  {
   "cell_type": "code",
   "execution_count": 22,
   "metadata": {},
   "outputs": [
    {
     "data": {
      "text/plain": [
       "<matplotlib.image.AxesImage at 0x1faab8ef340>"
      ]
     },
     "execution_count": 22,
     "metadata": {},
     "output_type": "execute_result"
    },
    {
     "data": {
      "image/png": "[encoded data removed]",
      "text/plain": [
       "<Figure size 432x288 with 1 Axes>"
      ]
     },
     "metadata": {
      "needs_background": "light"
     },
     "output_type": "display_data"
    }
   ],
   "source": [
    "from tensorflow.keras.preprocessing import image\n",
    "img=image.load_img('..\\\\Code\\\\brailleCharactersDataset\\\\BrailleDataset\\\\j1.JPG0dim.jpg')\n",
    "plt.imshow(img)"
   ]
  },
  {
   "cell_type": "code",
   "execution_count": 23,
   "metadata": {
    "scrolled": true
   },
   "outputs": [
    {
     "data": {
      "text/plain": [
       "array([[[240., 240., 240.],\n",
       "        [239., 239., 239.],\n",
       "        [238., 238., 238.],\n",
       "        ...,\n",
       "        [237., 237., 237.],\n",
       "        [237., 237., 237.],\n",
       "        [237., 237., 237.]],\n",
       "\n",
       "       [[235., 235., 235.],\n",
       "        [235., 235., 235.],\n",
       "        [236., 236., 236.],\n",
       "        ...,\n",
       "        [237., 237., 237.],\n",
       "        [237., 237., 237.],\n",
       "        [237., 237., 237.]],\n",
       "\n",
       "       [[235., 235., 235.],\n",
       "        [236., 236., 236.],\n",
       "        [237., 237., 237.],\n",
       "        ...,\n",
       "        [237., 237., 237.],\n",
       "        [237., 237., 237.],\n",
       "        [237., 237., 237.]],\n",
       "\n",
       "       ...,\n",
       "\n",
       "       [[238., 238., 238.],\n",
       "        [238., 238., 238.],\n",
       "        [237., 237., 237.],\n",
       "        ...,\n",
       "        [237., 237., 237.],\n",
       "        [237., 237., 237.],\n",
       "        [237., 237., 237.]],\n",
       "\n",
       "       [[236., 236., 236.],\n",
       "        [238., 238., 238.],\n",
       "        [238., 238., 238.],\n",
       "        ...,\n",
       "        [237., 237., 237.],\n",
       "        [237., 237., 237.],\n",
       "        [237., 237., 237.]],\n",
       "\n",
       "       [[232., 232., 232.],\n",
       "        [234., 234., 234.],\n",
       "        [237., 237., 237.],\n",
       "        ...,\n",
       "        [237., 237., 237.],\n",
       "        [237., 237., 237.],\n",
       "        [237., 237., 237.]]], dtype=float32)"
      ]
     },
     "execution_count": 23,
     "metadata": {},
     "output_type": "execute_result"
    }
   ],
   "source": [
    "x=image.img_to_array(img)\n",
    "x"
   ]
  },
  {
   "cell_type": "code",
   "execution_count": 24,
   "metadata": {},
   "outputs": [
    {
     "data": {
      "text/plain": [
       "array([[9.43415805e-30, 6.77444052e-29, 5.42249100e-19, 1.03055606e-10,\n",
       "        3.71151291e-26, 1.44346479e-11, 4.21898467e-18, 6.29111888e-13,\n",
       "        8.41704178e-15, 9.99990344e-01, 1.78716582e-34, 3.37341601e-21,\n",
       "        4.59397385e-27, 1.31160357e-06, 3.63380370e-25, 1.16665805e-13,\n",
       "        4.02758160e-10, 1.91988322e-17, 3.83493240e-16, 8.32674959e-06,\n",
       "        6.53664880e-14, 9.93779337e-18, 2.97142555e-09, 2.80062490e-18,\n",
       "        2.22693392e-13, 1.02353970e-09]], dtype=float32)"
      ]
     },
     "execution_count": 24,
     "metadata": {},
     "output_type": "execute_result"
    }
   ],
   "source": [
    "x=np.expand_dims(x,axis=0)\n",
    "model.predict(x)"
   ]
  },
  {
   "cell_type": "code",
   "execution_count": 25,
   "metadata": {},
   "outputs": [
    {
     "data": {
      "text/plain": [
       "array([9], dtype=int64)"
      ]
     },
     "execution_count": 25,
     "metadata": {},
     "output_type": "execute_result"
    }
   ],
   "source": [
    "a=np.argmax(model.predict(x), axis=1)\n",
    "a"
   ]
  }
 ],
 "metadata": {
  "kernelspec": {
   "display_name": "Python 3",
   "language": "python",
   "name": "python3"
  },
  "language_info": {
   "codemirror_mode": {
    "name": "ipython",
    "version": 3
   },
   "file_extension": ".py",
   "mimetype": "text/x-python",
   "name": "python",
   "nbconvert_exporter": "python",
   "pygments_lexer": "ipython3",
   "version": "3.8.3"
  }
 },
 "nbformat": 4,
 "nbformat_minor": 4
}
